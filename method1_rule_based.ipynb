{
  "nbformat": 4,
  "nbformat_minor": 0,
  "metadata": {
    "colab": {
      "provenance": []
    },
    "kernelspec": {
      "name": "python3",
      "display_name": "Python 3"
    },
    "language_info": {
      "name": "python"
    }
  },
  "cells": [
    {
      "cell_type": "code",
      "execution_count": 2,
      "metadata": {
        "colab": {
          "base_uri": "https://localhost:8080/"
        },
        "id": "tJ0C9Ck-f24c",
        "outputId": "0fd614ac-c70c-456c-ead3-5692eced4390"
      },
      "outputs": [
        {
          "output_type": "stream",
          "name": "stdout",
          "text": [
            "Semantic label of given text : Excretion\n"
          ]
        }
      ],
      "source": [
        "import re\n",
        "\n",
        "# Define a dictionary of predefined titles and their associated keywords or patterns\n",
        "# ADME Keywords\n",
        "title_keywords = {\n",
        "    \"Absorption\": [\"absorption\", \"absorb\", \"food\"],\n",
        "    \"Distribution\": [\"distribution\", \"distribute\"],\n",
        "    \"Metabolism\": [\"metabolism\", \"metabolize\"],\n",
        "    \"Excretion\": [\"excretion\", \"elimination\", \"excreted\", \"eliminate\"]\n",
        "}\n",
        "\n",
        "# Define a sample text to classify\n",
        "# Pharmacokinetics section\n",
        "text = '''\n",
        "Approximately 64% of a 30 mg oral solution dose of paroxetine was excreted in\n",
        "the urine with 2% as the parent compound and 62% as metabolites over a 10-\n",
        "day post-dosing period. About 36% was excreted in the feces (probably via the\n",
        "bile), mostly as metabolites and less than 1% as the parent compound over the\n",
        "10-day post-dosing period.\n",
        "'''\n",
        "\n",
        "# Initialize a variable to store the assigned title - semantic label (ADME)\n",
        "assigned_title = None\n",
        "\n",
        "# Iterate over the dictionary of titles and keywords\n",
        "for title, keywords in title_keywords.items():\n",
        "    # Define a regular expression pattern to search for the keywords in the text\n",
        "    pattern = r\"\\b(\" + \"|\".join(keywords) + r\")\\b\"\n",
        "    \n",
        "    # Use the re.search() function to search for the pattern in the text\n",
        "    if re.search(pattern, text, flags=re.IGNORECASE):\n",
        "        # If a match is found, assign the title to the assigned_title variable and break out of the loop\n",
        "        assigned_title = title\n",
        "        break\n",
        "\n",
        "# Print the assigned title\n",
        "print(\"Semantic label of given text :\", assigned_title)"
      ]
    }
  ]
}